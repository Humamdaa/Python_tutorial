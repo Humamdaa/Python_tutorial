{
  "nbformat": 4,
  "nbformat_minor": 0,
  "metadata": {
    "colab": {
      "name": "Tutorial.ipynb",
      "provenance": [],
      "collapsed_sections": [],
      "authorship_tag": "ABX9TyMLL5Ozk/PLrIHf3QOXqgIq",
      "include_colab_link": true
    },
    "kernelspec": {
      "name": "python3",
      "display_name": "Python 3"
    },
    "language_info": {
      "name": "python"
    }
  },
  "cells": [
    {
      "cell_type": "markdown",
      "metadata": {
        "id": "view-in-github",
        "colab_type": "text"
      },
      "source": [
        "<a href=\"https://colab.research.google.com/github/Humamdaa/Python_tutorial/blob/main/Tutorial.ipynb\" target=\"_parent\"><img src=\"https://colab.research.google.com/assets/colab-badge.svg\" alt=\"Open In Colab\"/></a>"
      ]
    },
    {
      "cell_type": "markdown",
      "source": [
        "# Humam Daas First Colab tutorial\n",
        "\n",
        "> Here is an example of Markdown Usage\n",
        "\n",
        "## Secondary title"
      ],
      "metadata": {
        "id": "E6DdiuuGtf7N"
      }
    },
    {
      "cell_type": "code",
      "source": [
        "\"\"\"\n",
        "Basics of Python\n",
        "\"\"\"\n",
        "a=[1,4,'omar',5,'humam','rami',77]\n",
        "\n",
        "del a[1:4] \n",
        "\n",
        "for x in a:\n",
        "  print(x)\n",
        "\n",
        "arr=[1] * 3\n",
        "print(arr)\n",
        "\n",
        "arra=['mohamad','asaad','saad','taeseer']\n",
        "print('humam' in arra)\n",
        "\n",
        "arr.append(2)\n",
        "print('after add by append:' ,arr)\n",
        "\n",
        "arr.extend(arra)\n",
        "arr.insert(4,'funIinsert')\n",
        "print('after add by print:',arr)\n",
        "\n",
        "arr.pop(0)\n",
        "print('arr after delete by pop :' , arr)\n"
      ],
      "metadata": {
        "colab": {
          "base_uri": "https://localhost:8080/"
        },
        "id": "k1smgxa4jwQn",
        "outputId": "3afb6fb5-124d-401a-82b9-3229fb8fb530"
      },
      "execution_count": null,
      "outputs": [
        {
          "output_type": "stream",
          "name": "stdout",
          "text": [
            "1\n",
            "humam\n",
            "rami\n",
            "77\n",
            "[1, 1, 1]\n",
            "False\n",
            "after add by append: [1, 1, 1, 2]\n",
            "after add by print: [1, 1, 1, 2, 'funIinsert', 'mohamad', 'asaad', 'saad', 'taeseer']\n"
          ]
        }
      ]
    },
    {
      "cell_type": "markdown",
      "source": [
        "## Pandas Library\n",
        "\n",
        "| Tables   |      Are      |  Cool |\n",
        "|----------|:-------------:|------:|\n",
        "| col 1 is |  left-aligned | 1600 |\n",
        "| col 2 is |    centered   |   12 |\n",
        "| col 3 is | right-aligned |    1 |"
      ],
      "metadata": {
        "id": "STH9wiPEvaja"
      }
    },
    {
      "cell_type": "code",
      "source": [
        "# Download a Dataset CSV File\n",
        "!wget https://gricad-gitlab.univ-grenoble-alpes.fr/pacbot_statistics/experiements_statistics/-/blob/main/old_dataset/Phase_1.csv\n",
        "\n",
        "# Read CSV File using Pandas\n",
        "\n",
        "import pandas as pd\n",
        "import numpy as np\n",
        "import scipy.stats as stats\n",
        "from scipy.stats import norm\n",
        "from sklearn.linear_model import LinearRegression\n",
        "%matplotlib inline\n",
        "import matplotlib.pyplot as plt\n",
        "import matplotlib.patches as mpatches\n",
        "import seaborn as sns\n",
        "\n",
        "path = \"/content/Phase_1.csv\"\n",
        "\"\"\"\n",
        "https://stackoverflow.com/questions/18039057/python-pandas-error-tokenizing-data\n",
        "\"\"\"\n",
        "df = pd.read_csv(path, on_bad_lines='skip')"
      ],
      "metadata": {
        "id": "k1ssR2bFvdj3"
      },
      "execution_count": 3,
      "outputs": []
    }
  ]
}